{
  "metadata": {
    "kernelspec": {
      "name": "python",
      "display_name": "Python (Pyodide)",
      "language": "python"
    },
    "language_info": {
      "codemirror_mode": {
        "name": "python",
        "version": 3
      },
      "file_extension": ".py",
      "mimetype": "text/x-python",
      "name": "python",
      "nbconvert_exporter": "python",
      "pygments_lexer": "ipython3",
      "version": "3.8"
    }
  },
  "nbformat_minor": 4,
  "nbformat": 4,
  "cells": [
    {
      "cell_type": "code",
      "source": "user_data = [\n    (1, 'Alice', 28, 'USA'),\n    (2, 'Bob', 35, 'Canada'),\n    (3, 'Charlie', 40, 'USA'),\n    (4, 'Frank', 25, 'Mexico'),\n    (5, 'Eve', 32, 'Canada'),\n    (6, 'Frank', 22, 'USA'),\n    (7, 'Grace', 30, 'Canada'),\n    (8, 'Heidi', 33, 'USA'),\n    (9, 'Ivan', 31, 'Germany'),\n    (10, 'Abdullah', 45, 'USA'),\n    (11, 'Kyle', 36, 'Canada'),\n    (12, 'Laura', 29, 'USA'),\n    (13, 'Mike', 27, 'Canada'),\n    (14, 'Nina', 38, 'USA'),\n    (15, 'Abdullah', 23, 'Mexico'),\n    (16, 'Zane', 34, 'Canada'),\n    (17, 'Quinn', 26, 'USA'),\n    (18, 'Rachel', 41, 'Canada'),\n    (19, 'Usman', 48, 'USA'),\n    (20, 'Tina', 39, 'Canada'),\n    (21, 'Uma', 24, 'Brazil'),\n    (22, 'Vince', 50, 'USA'),\n    (23, 'Walt', 28, 'USA'),\n    (24, 'Xander', 42, 'Canada'),\n    (25, 'Frank', 46, 'USA'),\n    (26, 'Zane', 29, 'Canada')\n]\ndef filter_users_name(data):\n    result = []\n    for user in data:\n        age = user[2]\n        country = user[3]\n        if age > 30 and (country == \"USA\" or country == \"Canada\"):\n            result.append(user[1])\n    return result\n\ndef sort_by_age(data):\n    sorted_users = sorted(user_data, key=lambda x: x[2], reverse=True)\n    return sorted_users[:10]\n\ndef check_duplicate_names(user_data):\n    names_seen = set()  \n    duplicates = set()  \n    for user in user_data:\n        name = user[1]\n        if name in names_seen:\n            duplicates.add(name)  \n        else:\n            names_seen.add(name) \n            \n    return list(duplicates)\n",
      "metadata": {
        "trusted": true
      },
      "outputs": [],
      "execution_count": 5
    },
    {
      "cell_type": "code",
      "source": "print(filter_users_name(user_data))",
      "metadata": {
        "trusted": true
      },
      "outputs": [
        {
          "name": "stdout",
          "text": "['Bob', 'Charlie', 'Eve', 'Heidi', 'Abdullah', 'Kyle', 'Nina', 'Zane', 'Rachel', 'Usman', 'Tina', 'Vince', 'Xander', 'Frank']\n",
          "output_type": "stream"
        }
      ],
      "execution_count": 6
    },
    {
      "cell_type": "code",
      "source": "print(sort_by_age(user_data))",
      "metadata": {
        "trusted": true
      },
      "outputs": [
        {
          "name": "stdout",
          "text": "[(22, 'Vince', 50, 'USA'), (19, 'Usman', 48, 'USA'), (25, 'Frank', 46, 'USA'), (10, 'Abdullah', 45, 'USA'), (24, 'Xander', 42, 'Canada'), (18, 'Rachel', 41, 'Canada'), (3, 'Charlie', 40, 'USA'), (20, 'Tina', 39, 'Canada'), (14, 'Nina', 38, 'USA'), (11, 'Kyle', 36, 'Canada')]\n",
          "output_type": "stream"
        }
      ],
      "execution_count": 7
    },
    {
      "cell_type": "code",
      "source": "print(check_duplicate_names(user_data))",
      "metadata": {
        "trusted": true
      },
      "outputs": [
        {
          "name": "stdout",
          "text": "['Zane', 'Frank', 'Abdullah']\n",
          "output_type": "stream"
        }
      ],
      "execution_count": 8
    },
    {
      "cell_type": "code",
      "source": "transactions = [\n    (101, 1, 150.50, '2024-01-01'),\n    (102, 2, 200.00, '2024-01-02'),\n    (103, 3, 50.75, '2024-01-03'),\n    (104, 4, 300.25, '2024-01-04'),\n    (105, 5, 120.60, '2024-01-05'),\n    (106, 6, 500.75, '2024-01-06'),\n    (107, 7, 230.00, '2024-01-07'),\n    (108, 8, 540.40, '2024-01-08'),\n    (109, 9, 620.90, '2024-01-09'),\n    (110, 10, 410.50, '2024-01-10')]\n",
      "metadata": {
        "trusted": true
      },
      "outputs": [],
      "execution_count": 14
    },
    {
      "cell_type": "code",
      "source": "def count_unique_users(transactions):\n    unique_users = set()\n    for transaction in transactions:\n        unique_users.add(transaction[1]) \n    return len(unique_users)\n",
      "metadata": {
        "trusted": true
      },
      "outputs": [],
      "execution_count": 15
    },
    {
      "cell_type": "code",
      "source": "def highest_transaction(transactions):\n    max_transaction = transactions[0]\n    for transaction in transactions:\n        if transaction[2] > max_transaction[2]: \n            max_transaction = transaction\n    return max_transaction",
      "metadata": {
        "trusted": true
      },
      "outputs": [],
      "execution_count": 16
    },
    {
      "cell_type": "code",
      "source": "def separate_transaction_and_user_ids(transactions):\n    transaction_ids = []\n    user_ids = []\n    \n    for transaction in transactions:\n        if len(transaction) == 4:  \n            transaction_ids.append(transaction[0])  \n            user_ids.append(transaction[1])  \n        else:\n            raise ValueError(\"Tuple size is inconsistent\")\n    \n    return transaction_ids, user_ids\n\nunique_users_count = count_unique_users(transactions)\nprint(\"Total Unique Users:\", unique_users_count)\n\nhighest_trans = highest_transaction(transactions)\nprint(\"Transaction with Highest Amount:\", highest_trans)\n\ntransaction_ids, user_ids = separate_transaction_and_user_ids(transactions)\nprint(\"Transaction IDs:\", transaction_ids)\nprint(\"User IDs:\", user_ids)",
      "metadata": {
        "trusted": true
      },
      "outputs": [
        {
          "name": "stdout",
          "text": "Total Unique Users: 10\nTransaction with Highest Amount: (109, 9, 620.9, '2024-01-09')\nTransaction IDs: [101, 102, 103, 104, 105, 106, 107, 108, 109, 110]\nUser IDs: [1, 2, 3, 4, 5, 6, 7, 8, 9, 10]\n",
          "output_type": "stream"
        }
      ],
      "execution_count": 17
    },
    {
      "cell_type": "code",
      "source": "page_A = {1, 2, 3, 4}\npage_B = {3, 4, 5, 6}\npage_C = {1, 6, 7, 8}",
      "metadata": {
        "trusted": true
      },
      "outputs": [],
      "execution_count": 18
    },
    {
      "cell_type": "code",
      "source": "def users_visited_both(page_A, page_B):\n    common_users = set()\n    for user in page_A:\n        if user in page_B:\n            common_users.add(user)\n    return common_users\n\ndef users_visited_either(page_A, page_C):\n    result = set()\n\n    for user in page_A:\n        if user not in page_C:\n            result.add(user)\n    for user in page_C:\n        if user not in page_A:\n            result.add(user)\n    return result\n    \ndef update_page_A(page_A, new_user_ids):\n    for user_id in new_user_ids:\n        page_A.add(user_id)\n    return page_A\n\ndef remove_users_from_page_B(page_B, user_ids_to_remove):\n    for user_id in user_ids_to_remove:\n        page_B.discard(user_id) \n    return page_B",
      "metadata": {
        "trusted": true
      },
      "outputs": [],
      "execution_count": 19
    },
    {
      "cell_type": "code",
      "source": "\ncommon_users = users_visited_both(page_A, page_B)\nprint(\"Users who visited both Page A and Page B:\", common_users)\neither_users = users_visited_either(page_A, page_C)\nprint(\"Users who visited either Page A or Page C, but not both:\", either_users)\n\nnew_user_ids = {9, 10}\nupdated_page_A = update_page_A(page_A, new_user_ids)\nprint(\"Updated Page A:\", updated_page_A)\n\n\nuser_ids_to_remove = {4, 5}\nupdated_page_B = remove_users_from_page_B(page_B, user_ids_to_remove)\nprint(\"Updated Page B after removal:\", updated_page_B)",
      "metadata": {
        "trusted": true
      },
      "outputs": [
        {
          "name": "stdout",
          "text": "Users who visited both Page A and Page B: {3, 4}\nUsers who visited either Page A or Page C, but not both: {2, 3, 4, 6, 7, 8}\nUpdated Page A: {1, 2, 3, 4, 9, 10}\nUpdated Page B after removal: {3, 6}\n",
          "output_type": "stream"
        }
      ],
      "execution_count": 20
    },
    {
      "cell_type": "code",
      "source": "feedback = {\n    1: {'rating': 5, 'comments': 'Excellent service'},\n    2: {'rating': 3, 'comments': 'Good, but can improve'},\n    3: {'rating': 4, 'comments': 'Satisfied'},\n    4: {'rating': 2, 'comments': 'Not happy'},\n    5: {'rating': 5, 'comments': 'Perfect experience'},\n    6: {'rating': 4, 'comments': 'Great work'}\n}\n\ndef filter_high_ratings(feedback):\n    high_ratings = {}\n    for user_id, details in feedback.items():\n        if details['rating'] >= 4:\n            high_ratings[user_id] = details['rating']\n    return high_ratings\n\ndef top_5_users(feedback):\n    sorted_feedback = sorted(feedback.items(), key=lambda x: x[1]['rating'], reverse=True)\n    return sorted_feedback[:5]\ndef combine_feedback(feedback_list):\n    combined_feedback = {}\n\n    for feedback in feedback_list:\n        for user_id, details in feedback.items():\n            if user_id in combined_feedback:\n                combined_feedback[user_id]['rating'] = max(combined_feedback[user_id]['rating'], details['rating'])\n                combined_feedback[user_id]['comments'] += \" | \" + details['comments']\n            else:\n                combined_feedback[user_id] = {\n                    'rating': details['rating'],\n                    'comments': details['comments'] \n                }\n\n    return combined_feedback\n    \ndef filter_users_by_rating(feedback):\n    return {user_id: details['rating'] for user_id, details in feedback.items() if details['rating'] > 3}",
      "metadata": {
        "trusted": true
      },
      "outputs": [],
      "execution_count": 21
    },
    {
      "cell_type": "code",
      "source": "feedback_1 = {\n    11: {'rating': 3, 'comments': 'Decent product'},\n    12: {'rating': 4, 'comments': 'Good quality'},\n    13: {'rating': 5, 'comments': 'Excellent customer service'}\n}\n\nfeedback_2 = {\n    11: {'rating': 4, 'comments': 'Improved after use'},\n    14: {'rating': 5, 'comments': 'Highly recommended'},\n    15: {'rating': 3, 'comments': 'Average performance'}\n}\n\nfeedback_3 = {\n    13: {'rating': 4, 'comments': 'Satisfactory experience'},\n    14: {'rating': 4, 'comments': 'Good, but could be better'},\n    16: {'rating': 5, 'comments': 'Exceptional quality'}\n}\n",
      "metadata": {
        "trusted": true
      },
      "outputs": [],
      "execution_count": 22
    },
    {
      "cell_type": "code",
      "source": "filtered_feedback = filter_high_ratings(feedback_1)\nprint(\"Filtered Feedback (Rating >= 4):\", filtered_feedback)\n",
      "metadata": {
        "trusted": true
      },
      "outputs": [
        {
          "name": "stdout",
          "text": "Filtered Feedback (Rating >= 4): {12: 4, 13: 5}\n",
          "output_type": "stream"
        }
      ],
      "execution_count": 24
    },
    {
      "cell_type": "code",
      "source": "top_users = top_5_users(feedback_1)\nprint(\"Top 5 Users:\", top_users)\n",
      "metadata": {
        "trusted": true
      },
      "outputs": [
        {
          "name": "stdout",
          "text": "Top 5 Users: [(13, {'rating': 5, 'comments': 'Excellent customer service'}), (12, {'rating': 4, 'comments': 'Good quality'}), (11, {'rating': 3, 'comments': 'Decent product'})]\n",
          "output_type": "stream"
        }
      ],
      "execution_count": 25
    },
    {
      "cell_type": "code",
      "source": "combined_feedback = combine_feedback([feedback_1, feedback_2, feedback_3])\nprint(\"Combined Feedback:\", combined_feedback)\n",
      "metadata": {
        "trusted": true
      },
      "outputs": [
        {
          "name": "stdout",
          "text": "Combined Feedback: {11: {'rating': 4, 'comments': 'Decent product | Improved after use'}, 12: {'rating': 4, 'comments': 'Good quality'}, 13: {'rating': 5, 'comments': 'Excellent customer service | Satisfactory experience'}, 14: {'rating': 5, 'comments': 'Highly recommended | Good, but could be better'}, 15: {'rating': 3, 'comments': 'Average performance'}, 16: {'rating': 5, 'comments': 'Exceptional quality'}}\n",
          "output_type": "stream"
        }
      ],
      "execution_count": 26
    },
    {
      "cell_type": "code",
      "source": "high_rated_users = filter_users_by_rating(combined_feedback)\nprint(\"Users with Rating > 3:\", high_rated_users)",
      "metadata": {
        "trusted": true
      },
      "outputs": [
        {
          "name": "stdout",
          "text": "Users with Rating > 3: {11: 4, 12: 4, 13: 5, 14: 5, 16: 5}\n",
          "output_type": "stream"
        }
      ],
      "execution_count": 27
    },
    {
      "cell_type": "code",
      "source": "",
      "metadata": {
        "trusted": true
      },
      "outputs": [],
      "execution_count": null
    }
  ]
}