{
  "metadata": {
    "kernelspec": {
      "name": "python",
      "display_name": "Python (Pyodide)",
      "language": "python"
    },
    "language_info": {
      "codemirror_mode": {
        "name": "python",
        "version": 3
      },
      "file_extension": ".py",
      "mimetype": "text/x-python",
      "name": "python",
      "nbconvert_exporter": "python",
      "pygments_lexer": "ipython3",
      "version": "3.8"
    }
  },
  "nbformat_minor": 4,
  "nbformat": 4,
  "cells": [
    {
      "cell_type": "code",
      "source": "import pandas as pd\n\nsales_df = pd.read_csv('sales.csv')\ncustomers_df = pd.read_csv('customers.csv')\n\nprint(sales_df.head())\nprint(\"\\n\")\nprint(customers_df.head())\n\nprint(\"\\nSales Dataset - Number of Rows and Columns:\")\nprint(sales_df.shape)\n\nprint(\"\\nCustomers Dataset - Number of Rows and Columns:\")\nprint(customers_df.shape)\n\nprint(\"\\nSales Dataset - Missing Values:\")\nprint(sales_df.isnull().sum())\n\nprint(\"\\nCustomers Dataset - Missing Values:\")\nprint(customers_df.isnull().sum())\n\nsales_df_cleaned = sales_df.dropna()\ncustomers_df_cleaned = customers_df.dropna()\n\nsales_df_filled = sales_df.fillna(0)\ncustomers_df_filled = customers_df.fillna('Unknown')\n\nprint(\"\\nSales Dataset - Cleaned (Drop missing rows):\")\nprint(sales_df_cleaned.head())\n\nprint(\"\\nCustomers Dataset - Cleaned (Drop missing rows):\")\nprint(customers_df_cleaned.head())\n",
      "metadata": {
        "trusted": true
      },
      "outputs": [
        {
          "name": "stdout",
          "text": "   SaleID  CustomerID     Product  Amount\n0     101           1      Laptop     200\n1     102           2  Smartphone     500\n2     103           3      Tablet     800\n3     104           4  Headphones    1100\n4     105           5     Monitor    1400\n\n\n   CustomerID  Age         City\n0           1   22     New York\n1           2   23  Los Angeles\n2           3   24      Chicago\n3           4   25      Houston\n4           5   26      Phoenix\n\nSales Dataset - Number of Rows and Columns:\n(400, 4)\n\nCustomers Dataset - Number of Rows and Columns:\n(100, 3)\n\nSales Dataset - Missing Values:\nSaleID        0\nCustomerID    0\nProduct       0\nAmount        0\ndtype: int64\n\nCustomers Dataset - Missing Values:\nCustomerID    0\nAge           0\nCity          0\ndtype: int64\n\nSales Dataset - Cleaned (Drop missing rows):\n   SaleID  CustomerID     Product  Amount\n0     101           1      Laptop     200\n1     102           2  Smartphone     500\n2     103           3      Tablet     800\n3     104           4  Headphones    1100\n4     105           5     Monitor    1400\n\nCustomers Dataset - Cleaned (Drop missing rows):\n   CustomerID  Age         City\n0           1   22     New York\n1           2   23  Los Angeles\n2           3   24      Chicago\n3           4   25      Houston\n4           5   26      Phoenix\n",
          "output_type": "stream"
        }
      ],
      "execution_count": 4
    },
    {
      "cell_type": "code",
      "source": "import pandas as pd\nimport time\n\ncustomers_df = pd.read_csv('customers.csv')\ncustomers_dict = customers_df.to_dict(orient='records')\n\ncity_to_filter = 'New York'\n\nstart_time_dict = time.time()\nfiltered_dict = [customer for customer in customers_dict if customer['City'] == city_to_filter]\nend_time_dict = time.time()\ndict_time = end_time_dict - start_time_dict\n\nstart_time_df = time.time()\nfiltered_df = customers_df[customers_df['City'] == city_to_filter]\nend_time_df = time.time()\ndf_time = end_time_df - start_time_df\n\nprint(f\"Filtered customers (using dictionary): {len(filtered_dict)} customers\")\nprint(f\"Filtered customers (using DataFrame): {len(filtered_df)} customers\")\n\nprint(f\"\\nTime taken using dictionary: {dict_time:.6f} seconds\")\nprint(f\"Time taken using DataFrame: {df_time:.6f} seconds\")\n",
      "metadata": {
        "trusted": true
      },
      "outputs": [
        {
          "name": "stdout",
          "text": "Filtered customers (using dictionary): 20 customers\nFiltered customers (using DataFrame): 20 customers\n\nTime taken using dictionary: 0.001000 seconds\nTime taken using DataFrame: 0.008000 seconds\n",
          "output_type": "stream"
        }
      ],
      "execution_count": 5
    },
    {
      "cell_type": "code",
      "source": "import pandas as pd\n\nsales_df = pd.read_csv('sales.csv')\ncustomers_df = pd.read_csv('customers.csv')\n\nsales_duplicates = sales_df[sales_df.duplicated()]\ncustomers_duplicates = customers_df[customers_df.duplicated()]\n\nsales_df_cleaned = sales_df.drop_duplicates()\ncustomers_df_cleaned = customers_df.drop_duplicates()\n\nsales_duplicates_removed = sales_df_cleaned[sales_df_cleaned.duplicated()]\ncustomers_duplicates_removed = customers_df_cleaned[customers_df_cleaned.duplicated()]\n\nprint(f\"Duplicate rows in sales dataset before cleaning: {len(sales_duplicates)}\")\nprint(f\"Duplicate rows in customers dataset before cleaning: {len(customers_duplicates)}\")\nprint(f\"Duplicate rows in sales dataset after cleaning: {len(sales_duplicates_removed)}\")\nprint(f\"Duplicate rows in customers dataset after cleaning: {len(customers_duplicates_removed)}\")\n",
      "metadata": {
        "trusted": true
      },
      "outputs": [
        {
          "name": "stdout",
          "text": "Duplicate rows in sales dataset before cleaning: 0\nDuplicate rows in customers dataset before cleaning: 0\nDuplicate rows in sales dataset after cleaning: 0\nDuplicate rows in customers dataset after cleaning: 0\n",
          "output_type": "stream"
        }
      ],
      "execution_count": 6
    },
    {
      "cell_type": "code",
      "source": "import pandas as pd\n\nsales_df = pd.read_csv('sales.csv')\nsales_df['Amount_after_discount'] = sales_df['Amount'] * 0.9\nproduct_sales = sales_df.groupby('Product')['Amount_after_discount'].sum().reset_index()\nprint(product_sales)\n",
      "metadata": {
        "trusted": true
      },
      "outputs": [
        {
          "name": "stdout",
          "text": "      Product  Amount_after_discount\n0  Headphones                79200.0\n1      Laptop                14400.0\n2     Monitor               100800.0\n3  Smartphone                36000.0\n4      Tablet                57600.0\n",
          "output_type": "stream"
        }
      ],
      "execution_count": 7
    },
    {
      "cell_type": "code",
      "source": "customers_df = pd.read_csv('customers.csv')\nfiltered_customers = customers_df[(customers_df['Age'] >= 25) & (customers_df['Age'] <= 35)]\ncity_count = filtered_customers['City'].value_counts()\nprint(filtered_customers)\nprint(city_count)\n",
      "metadata": {
        "trusted": true
      },
      "outputs": [
        {
          "name": "stdout",
          "text": "    CustomerID  Age         City\n3            4   25      Houston\n4            5   26      Phoenix\n5            6   27     New York\n6            7   28  Los Angeles\n7            8   29      Chicago\n8            9   30      Houston\n9           10   31      Phoenix\n10          11   32     New York\n11          12   33  Los Angeles\n12          13   34      Chicago\n13          14   35      Houston\n33          34   25      Houston\n34          35   26      Phoenix\n35          36   27     New York\n36          37   28  Los Angeles\n37          38   29      Chicago\n38          39   30      Houston\n39          40   31      Phoenix\n40          41   32     New York\n41          42   33  Los Angeles\n42          43   34      Chicago\n43          44   35      Houston\n63          64   25      Houston\n64          65   26      Phoenix\n65          66   27     New York\n66          67   28  Los Angeles\n67          68   29      Chicago\n68          69   30      Houston\n69          70   31      Phoenix\n70          71   32     New York\n71          72   33  Los Angeles\n72          73   34      Chicago\n73          74   35      Houston\n93          94   25      Houston\n94          95   26      Phoenix\n95          96   27     New York\n96          97   28  Los Angeles\n97          98   29      Chicago\n98          99   30      Houston\n99         100   31      Phoenix\nCity\nHouston        11\nPhoenix         8\nNew York        7\nLos Angeles     7\nChicago         7\nName: count, dtype: int64\n",
          "output_type": "stream"
        }
      ],
      "execution_count": 8
    },
    {
      "cell_type": "code",
      "source": "customers_df = pd.read_csv('customers.csv')\nsales_df = pd.read_csv('sales.csv')\nmerged_df = pd.merge(sales_df, customers_df, on='CustomerID')\n\ncity_sales = merged_df.groupby('City')['Amount'].sum().idxmax()\nproduct_sales = merged_df.groupby('Product')['Amount'].sum().idxmax()\n\nprint(city_sales)\nprint(product_sales)\n",
      "metadata": {
        "trusted": true
      },
      "outputs": [
        {
          "name": "stdout",
          "text": "Phoenix\nMonitor\n",
          "output_type": "stream"
        }
      ],
      "execution_count": 9
    },
    {
      "cell_type": "code",
      "source": "unique_cities = merged_df['City'].unique()\nunique_products = merged_df['Product'].unique()\n\nmean_amount = merged_df['Amount'].mean()\nmedian_amount = merged_df['Amount'].median()\n\nprint(unique_cities)\nprint(unique_products)\nprint(mean_amount)\nprint(median_amount)\n",
      "metadata": {
        "trusted": true
      },
      "outputs": [
        {
          "name": "stdout",
          "text": "['New York' 'Los Angeles' 'Chicago' 'Houston' 'Phoenix']\n['Laptop' 'Smartphone' 'Tablet' 'Headphones' 'Monitor']\n800.0\n800.0\n",
          "output_type": "stream"
        }
      ],
      "execution_count": 10
    },
    {
      "cell_type": "code",
      "source": "",
      "metadata": {
        "trusted": true
      },
      "outputs": [],
      "execution_count": null
    }
  ]
}