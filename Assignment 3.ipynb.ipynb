{
  "metadata": {
    "kernelspec": {
      "name": "python",
      "display_name": "Python (Pyodide)",
      "language": "python"
    },
    "language_info": {
      "codemirror_mode": {
        "name": "python",
        "version": 3
      },
      "file_extension": ".py",
      "mimetype": "text/x-python",
      "name": "python",
      "nbconvert_exporter": "python",
      "pygments_lexer": "ipython3",
      "version": "3.8"
    }
  },
  "nbformat_minor": 4,
  "nbformat": 4,
  "cells": [
    {
      "cell_type": "code",
      "source": "orders_data = [\n    {\"customer\": \"Alice\", \"total\": 250.5},\n    {\"customer\": \"Bob\", \"total\": \"invalid_data\"},\n    {\"customer\": \"Charlie\", \"total\": 450},\n    {\"customer\": \"Daisy\", \"total\": 100.0},\n    {\"customer\": \"Eve\", \"total\": -30}\n]\n\ndef validation(data):\n    valid_data = []\n    try:\n        data = list(filter(lambda x: isinstance(x['total'], (int, float)) and x['total'] >= 0, data))\n    except Exception as e:\n        print(f\"Error: {e}\")\n    return data\n\nvalid_data = validation(orders_data)\nprint(\"Valid Orders: \", valid_data)\n",
      "metadata": {
        "trusted": true
      },
      "outputs": [
        {
          "name": "stdout",
          "text": "Valid Orders:  [{'customer': 'Alice', 'total': 250.5}, {'customer': 'Charlie', 'total': 450}, {'customer': 'Daisy', 'total': 100.0}]\n",
          "output_type": "stream"
        }
      ],
      "execution_count": 4
    },
    {
      "cell_type": "code",
      "source": "def discount(valid_data):\n    orders = list(map(lambda x: {\"customer\": x[\"customer\"], \"total\": x[\"total\"] * 0.9} if x[\"total\"] > 300 else x, valid_data))\n    return orders\ndiscounted = discount(valid_data)\nprint(f\"Discounted Orders : {discounted}\")",
      "metadata": {
        "trusted": true
      },
      "outputs": [
        {
          "name": "stdout",
          "text": "Discounted Orders : [{'customer': 'Alice', 'total': 250.5}, {'customer': 'Charlie', 'total': 405.0}, {'customer': 'Daisy', 'total': 100.0}]\n",
          "output_type": "stream"
        }
      ],
      "execution_count": 27
    },
    {
      "cell_type": "code",
      "source": "from functools import reduce\ndef total_calculate(data):\n    total = reduce(\n        lambda x, y: \n            (x if isinstance(x, float) else x['total']) + \n            (y if isinstance(y, float) else y['total']), \n        data\n    )\n    return total\nt = total_calculate(discounted)\nprint(f\"total is : {t}\")",
      "metadata": {
        "trusted": true
      },
      "outputs": [
        {
          "name": "stdout",
          "text": "total is : 755.5\n",
          "output_type": "stream"
        }
      ],
      "execution_count": 29
    },
    {
      "cell_type": "code",
      "source": "class SquareNumbers:\n    def __init__(self, n):\n        self.n = n\n        self.current = 1\n\n    def __iter__(self):\n        return self\n\n    def __next__(self):\n        if self.current <= self.n:\n            result = self.current ** 2\n            self.current += 1\n            return result\n        else:\n            raise StopIteration\n\nfor square in SquareNumbers(7):\n    print(square)",
      "metadata": {
        "trusted": true
      },
      "outputs": [
        {
          "name": "stdout",
          "text": "1\n4\n9\n16\n25\n36\n49\n",
          "output_type": "stream"
        }
      ],
      "execution_count": 32
    },
    {
      "cell_type": "code",
      "source": "def generate_fibonacci(n):\n    a, b = 0, 1\n    while a <= n:\n        yield a\n        a, b = b, a + b\n\nfor num in generate_fibonacci(17):\n    print(num)",
      "metadata": {
        "trusted": true
      },
      "outputs": [
        {
          "name": "stdout",
          "text": "0\n1\n1\n2\n3\n5\n8\n13\n",
          "output_type": "stream"
        }
      ],
      "execution_count": 34
    },
    {
      "cell_type": "code",
      "source": "class ZeroDivisionErrorCustom(Exception):\n    pass\n\ndef divide_list_numbers(numbers, divisor):\n    try:\n        if divisor == 0:\n            raise ZeroDivisionErrorCustom(\"Cannot divide by zero\")\n        return [num / divisor for num in numbers]\n    except ZeroDivisionErrorCustom as e:\n        raise e\n    except Exception as e:\n        raise Exception(\"Error occurred while dividing numbers\") from e\n\ntry:\n    result = divide_list_numbers([10, 20, \"invalid\", 40], 0)\n    print(result)\nexcept Exception as e:\n    print(e)",
      "metadata": {
        "trusted": true
      },
      "outputs": [
        {
          "name": "stdout",
          "text": "Cannot divide by zero\n",
          "output_type": "stream"
        }
      ],
      "execution_count": 35
    },
    {
      "cell_type": "code",
      "source": "def log_exceptions_decorator(func):\n    def wrapper(*args, **kwargs):\n        try:\n            return func(*args, **kwargs)\n        except Exception as e:\n            print(f\"Exception in {func.__name__}: {type(e).__name__}, {str(e)}\")\n            raise\n    return wrapper\n\n@log_exceptions_decorator\ndef test_division_function(a, b):\n    return a / b\n\ntry:\n    result = test_division_function(10, 0)\nexcept Exception as e:\n    print(e)",
      "metadata": {
        "trusted": true
      },
      "outputs": [
        {
          "name": "stdout",
          "text": "Exception in test_division_function: ZeroDivisionError, division by zero\ndivision by zero\n",
          "output_type": "stream"
        }
      ],
      "execution_count": 36
    },
    {
      "cell_type": "code",
      "source": "",
      "metadata": {
        "trusted": true
      },
      "outputs": [],
      "execution_count": null
    }
  ]
}